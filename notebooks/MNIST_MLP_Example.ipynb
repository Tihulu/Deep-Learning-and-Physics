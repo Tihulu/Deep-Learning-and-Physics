{
 "cells": [
  {
   "cell_type": "markdown",
   "metadata": {},
   "source": [
    "This is the original tutorial of the problem sheet 1 from the course TTIC 31230 provided by David McAllester. There material from is github is used with permission from https://github.com/mcallester/ttic-31230"
   ]
  },
  {
   "cell_type": "code",
   "execution_count": 1,
   "metadata": {},
   "outputs": [
    {
     "data": {
      "image/png": "[encoded data removed]",
      "text/plain": [
       "<Figure size 640x480 with 1 Axes>"
      ]
     },
     "metadata": {},
     "output_type": "display_data"
    }
   ],
   "source": [
    "import numpy as np\n",
    "import matplotlib.pyplot as plt\n",
    "import edf\n",
    "import mnist_loader\n",
    "\n",
    "train_images, train_labels = mnist_loader.load_mnist(section = 'training', path = 'MNIST')\n",
    "test_images, test_labels = mnist_loader.load_mnist(section = 'testing', path = 'MNIST')\n",
    "\n",
    "plt.imshow(train_images[0], cmap='gray', interpolation = 'nearest')\n",
    "plt.show()"
   ]
  },
  {
   "cell_type": "code",
   "execution_count": 2,
   "metadata": {},
   "outputs": [],
   "source": [
    "\"\"\"we will reshape the 28x28 grayscale images as \n",
    "784-dimensional vectors, which will be the network's inputs\"\"\"\n",
    "\n",
    "train_images = train_images.reshape(len(train_images), -1)\n",
    "test_images = test_images.reshape(len(test_images), -1)"
   ]
  },
  {
   "cell_type": "code",
   "execution_count": 3,
   "metadata": {},
   "outputs": [],
   "source": [
    "\"\"\"we manually set the number of input features (784)\n",
    "and number of classes (10) which will be used to\n",
    "define the model\"\"\"\n",
    "\n",
    "nInputs = 784\n",
    "nLabels = 10\n",
    "\n",
    "\"\"\"below, MLPparams is an EDF ParameterPackage whose\n",
    "purpose is to define and store the parameters of the model,\n",
    "while MLPgraph is a function that implements the model's\n",
    "forward pass -- in this case, just a 1-hidden layer MLP\"\"\"\n",
    "\n",
    "class MLPparams(edf.ParameterPackage):\n",
    "    def __init__(self,nInputs, nHiddens, nLabels):\n",
    "        self.first = edf.AffineParams(nInputs,nHiddens)\n",
    "        self.last = edf.AffineParams(nHiddens,nLabels)\n",
    "        \n",
    "def MLPsigmoidgraph(Phi, x):\n",
    "    h = edf.Sigmoid(edf.Affine(Phi.first, x))\n",
    "    return edf.Softmax(edf.Affine(Phi.last, h))\n",
    "\n",
    "\"\"\"we then construct a MLP with 64 hidden units\"\"\"\n",
    "\n",
    "np.random.seed(1234)\n",
    "edf.clear_compgraph()\n",
    "xnode = edf.Input()\n",
    "ynode = edf.Input()\n",
    "nHiddens = 64\n",
    "Phi = MLPparams(nInputs, nHiddens, nLabels)\n",
    "probnode = MLPsigmoidgraph(Phi, xnode)\n",
    "lossnode = edf.LogLoss(probnode, ynode)"
   ]
  },
  {
   "cell_type": "code",
   "execution_count": 4,
   "metadata": {},
   "outputs": [],
   "source": [
    "\"\"\"the following functions are used to train the network.\n",
    "training is done by iterating over mini-batches of size 'batch_size'\n",
    "and updating the model's parameters with SGD\"\"\"\n",
    "\n",
    "def run_epoch(batch_size, data, labels, xnode, ynode, probnode, lossnode=None):\n",
    "    num_samples = len(data)\n",
    "    total_err = 0.0\n",
    "    num_batches = num_samples//batch_size\n",
    "    for i in range(num_batches):\n",
    "        start, end = i*batch_size, (i+1)*batch_size\n",
    "        xnode.value = train_images[start:end]\n",
    "        ynode.value = train_labels[start:end]\n",
    "        edf.Forward()\n",
    "        total_err += np.sum(np.not_equal(np.argmax(probnode.value, axis=1), ynode.value))\n",
    "        if lossnode:\n",
    "            edf.Backward(lossnode)\n",
    "            edf.SGD()\n",
    "        if i>0 and i%400 == 0:\n",
    "            print (\"\\t Batch {}/{}\".format(i, num_batches))\n",
    "    return 100*total_err/num_samples\n",
    "\n",
    "def train(num_epochs, batch_size, xnode, ynode, probnode, lossnode):\n",
    "    train_err_log = []\n",
    "    test_err_log = []\n",
    "    for epoch in range(num_epochs):\n",
    "        print(\"Epoch: {}/{}\".format(epoch+1, num_epochs))\n",
    "        train_err = run_epoch(batch_size, train_images, train_labels, xnode, ynode, probnode, lossnode)\n",
    "        train_err_log.append(train_err)\n",
    "        print (\"\\t Training Error {:.2f} %\".format(train_err))\n",
    "        test_err = run_epoch(len(test_images), test_images, test_labels, xnode, ynode, probnode)\n",
    "        test_err_log.append(test_err)\n",
    "        print (\"\\t Test Error {:.2f} %\".format(test_err))\n",
    "    return train_err_log, test_err_log"
   ]
  },
  {
   "cell_type": "code",
   "execution_count": 5,
   "metadata": {},
   "outputs": [
    {
     "name": "stdout",
     "output_type": "stream",
     "text": [
      "Epoch: 1/10\n",
      "\t Batch 400/937\n",
      "\t Batch 800/937\n",
      "\t Training Error 11.51 %\n",
      "\t Test Error 7.89 %\n",
      "Epoch: 2/10\n",
      "\t Batch 400/937\n",
      "\t Batch 800/937\n",
      "\t Training Error 6.37 %\n",
      "\t Test Error 5.77 %\n",
      "Epoch: 3/10\n",
      "\t Batch 400/937\n",
      "\t Batch 800/937\n",
      "\t Training Error 5.00 %\n",
      "\t Test Error 4.56 %\n",
      "Epoch: 4/10\n",
      "\t Batch 400/937\n",
      "\t Batch 800/937\n",
      "\t Training Error 4.10 %\n",
      "\t Test Error 3.78 %\n",
      "Epoch: 5/10\n",
      "\t Batch 400/937\n",
      "\t Batch 800/937\n",
      "\t Training Error 3.49 %\n",
      "\t Test Error 3.25 %\n",
      "Epoch: 6/10\n",
      "\t Batch 400/937\n",
      "\t Batch 800/937\n",
      "\t Training Error 3.09 %\n",
      "\t Test Error 2.85 %\n",
      "Epoch: 7/10\n",
      "\t Batch 400/937\n",
      "\t Batch 800/937\n",
      "\t Training Error 2.78 %\n",
      "\t Test Error 2.60 %\n",
      "Epoch: 8/10\n",
      "\t Batch 400/937\n",
      "\t Batch 800/937\n",
      "\t Training Error 2.49 %\n",
      "\t Test Error 2.35 %\n",
      "Epoch: 9/10\n",
      "\t Batch 400/937\n",
      "\t Batch 800/937\n",
      "\t Training Error 2.24 %\n",
      "\t Test Error 2.20 %\n",
      "Epoch: 10/10\n",
      "\t Batch 400/937\n",
      "\t Batch 800/937\n",
      "\t Training Error 2.01 %\n",
      "\t Test Error 2.06 %\n"
     ]
    }
   ],
   "source": [
    "\"\"\"now, we are ready to train the network. we can choose SGD's learning rate\n",
    "by changing edf.learning_rate, which we will set as 0.5 for now.\"\"\"\n",
    "\n",
    "num_epochs = 10\n",
    "batch_size = 64\n",
    "edf.learning_rate = 0.5\n",
    "train_err_log, test_err_log = train(num_epochs, batch_size, xnode, ynode, probnode, lossnode)"
   ]
  },
  {
   "cell_type": "code",
   "execution_count": 6,
   "metadata": {},
   "outputs": [
    {
     "data": {
      "image/png": "[encoded data removed]",
      "text/plain": [
       "<Figure size 640x480 with 1 Axes>"
      ]
     },
     "metadata": {},
     "output_type": "display_data"
    },
    {
     "data": {
      "text/plain": [
       "<Figure size 640x480 with 0 Axes>"
      ]
     },
     "metadata": {},
     "output_type": "display_data"
    }
   ],
   "source": [
    "\"\"\"we can then plot the error per epoch on the training and test data\"\"\"\n",
    "\n",
    "plt.xlabel(\"epochs\")\n",
    "plt.ylabel(\"error (%)\")\n",
    "plt.plot(np.arange(len(test_err_log)), test_err_log, color='red')\n",
    "plt.plot(np.arange(len(train_err_log)), train_err_log, color='blue')\n",
    "plt.legend(['test error', 'train error'], loc='upper right')\n",
    "plt.show()\n",
    "plt.clf()"
   ]
  },
  {
   "cell_type": "code",
   "execution_count": null,
   "metadata": {},
   "outputs": [],
   "source": []
  }
 ],
 "metadata": {
  "anaconda-cloud": {},
  "kernelspec": {
   "display_name": "Python 3 (ipykernel)",
   "language": "python",
   "name": "python3"
  },
  "language_info": {
   "codemirror_mode": {
    "name": "ipython",
    "version": 3
   },
   "file_extension": ".py",
   "mimetype": "text/x-python",
   "name": "python",
   "nbconvert_exporter": "python",
   "pygments_lexer": "ipython3",
   "version": "3.12.7"
  }
 },
 "nbformat": 4,
 "nbformat_minor": 4
}
